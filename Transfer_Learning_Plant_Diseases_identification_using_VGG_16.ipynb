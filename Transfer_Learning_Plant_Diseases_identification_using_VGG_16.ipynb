{
  "nbformat": 4,
  "nbformat_minor": 0,
  "metadata": {
    "colab": {
      "name": "Transfer Learning: Plant Diseases identification using VGG 16.ipynb",
      "provenance": [],
      "collapsed_sections": [],
      "mount_file_id": "1_u2fT3BJOaH01KhdN3tFc2er3vUiP4zB",
      "authorship_tag": "ABX9TyMRk5PoxAPkXqGWzVeAhEsL",
      "include_colab_link": true
    },
    "kernelspec": {
      "name": "python3",
      "display_name": "Python 3"
    },
    "language_info": {
      "name": "python"
    },
    "accelerator": "GPU"
  },
  "cells": [
    {
      "cell_type": "markdown",
      "metadata": {
        "id": "view-in-github",
        "colab_type": "text"
      },
      "source": [
        "<a href=\"https://colab.research.google.com/github/feniltailor22/Deep_Learning/blob/main/Transfer_Learning_Plant_Diseases_identification_using_VGG_16.ipynb\" target=\"_parent\"><img src=\"https://colab.research.google.com/assets/colab-badge.svg\" alt=\"Open In Colab\"/></a>"
      ]
    },
    {
      "cell_type": "code",
      "metadata": {
        "id": "7QbCsTukho3W"
      },
      "source": [
        "#In the given dataset we have Tomato leaf image dataset having 10 categories.\n",
        "#We have 10 types of tometo leaves.\n",
        "#We have approx 1900 Images in each class of Training data and 500 Images in Testing data.\n",
        "#Here we will identify the type of Tomato Plant Diseases with the help of available Training Tomato Leaf Images using VGG 16 Transfer Learning.   "
      ],
      "execution_count": 1,
      "outputs": []
    },
    {
      "cell_type": "code",
      "metadata": {
        "id": "BnuVF8qCcoFr"
      },
      "source": [
        "from keras.layers import Input, Lambda, Dense, Flatten\n",
        "from keras.models import Model\n",
        "from keras.applications.vgg16 import VGG16\n",
        "from keras.applications.vgg16 import preprocess_input\n",
        "from keras.preprocessing import image\n",
        "from keras.preprocessing.image import ImageDataGenerator\n",
        "from keras.models import Sequential\n",
        "import numpy as np\n",
        "from glob import glob\n",
        "import matplotlib.pyplot as plt"
      ],
      "execution_count": 2,
      "outputs": []
    },
    {
      "cell_type": "code",
      "metadata": {
        "id": "SbZboDvGeNxI"
      },
      "source": [
        "#Steps to load a dataset from kaggle"
      ],
      "execution_count": 3,
      "outputs": []
    },
    {
      "cell_type": "code",
      "metadata": {
        "colab": {
          "base_uri": "https://localhost:8080/"
        },
        "id": "D8OoSuuAd1dc",
        "outputId": "56e7113f-9e6b-45c6-d7c7-6b24dd3cd0dc"
      },
      "source": [
        "#1. Install the Kaggle library\n",
        "\n",
        "! pip install kaggle"
      ],
      "execution_count": 4,
      "outputs": [
        {
          "output_type": "stream",
          "name": "stdout",
          "text": [
            "Requirement already satisfied: kaggle in /usr/local/lib/python3.7/dist-packages (1.5.12)\n",
            "Requirement already satisfied: urllib3 in /usr/local/lib/python3.7/dist-packages (from kaggle) (1.24.3)\n",
            "Requirement already satisfied: python-slugify in /usr/local/lib/python3.7/dist-packages (from kaggle) (5.0.2)\n",
            "Requirement already satisfied: six>=1.10 in /usr/local/lib/python3.7/dist-packages (from kaggle) (1.15.0)\n",
            "Requirement already satisfied: certifi in /usr/local/lib/python3.7/dist-packages (from kaggle) (2021.10.8)\n",
            "Requirement already satisfied: python-dateutil in /usr/local/lib/python3.7/dist-packages (from kaggle) (2.8.2)\n",
            "Requirement already satisfied: requests in /usr/local/lib/python3.7/dist-packages (from kaggle) (2.23.0)\n",
            "Requirement already satisfied: tqdm in /usr/local/lib/python3.7/dist-packages (from kaggle) (4.62.3)\n",
            "Requirement already satisfied: text-unidecode>=1.3 in /usr/local/lib/python3.7/dist-packages (from python-slugify->kaggle) (1.3)\n",
            "Requirement already satisfied: idna<3,>=2.5 in /usr/local/lib/python3.7/dist-packages (from requests->kaggle) (2.10)\n",
            "Requirement already satisfied: chardet<4,>=3.0.2 in /usr/local/lib/python3.7/dist-packages (from requests->kaggle) (3.0.4)\n"
          ]
        }
      ]
    },
    {
      "cell_type": "code",
      "metadata": {
        "colab": {
          "base_uri": "https://localhost:8080/"
        },
        "id": "3xM-1G7fd5MN",
        "outputId": "716e7b10-c289-4ec8-a7e8-c82089fa9025"
      },
      "source": [
        "#2. Make a directory named “.kaggle”\n",
        "\n",
        "! mkdir ~/.kaggle"
      ],
      "execution_count": 5,
      "outputs": [
        {
          "output_type": "stream",
          "name": "stdout",
          "text": [
            "mkdir: cannot create directory ‘/root/.kaggle’: File exists\n"
          ]
        }
      ]
    },
    {
      "cell_type": "code",
      "metadata": {
        "id": "Vg-VdhkAd_h2"
      },
      "source": [
        "#3. Copy the “kaggle.json” into this new directory\n",
        "\n",
        "! cp kaggle.json ~/.kaggle/"
      ],
      "execution_count": 6,
      "outputs": []
    },
    {
      "cell_type": "code",
      "metadata": {
        "id": "WLjw8XSNeCfN"
      },
      "source": [
        "#4. Allocate the required permission for this file.\n",
        "\n",
        "! chmod 600 ~/.kaggle/kaggle.json"
      ],
      "execution_count": 7,
      "outputs": []
    },
    {
      "cell_type": "code",
      "metadata": {
        "colab": {
          "base_uri": "https://localhost:8080/"
        },
        "id": "Uh7rLaKYeK8U",
        "outputId": "f4b7103a-920f-48f0-b01a-91231d5b95e0"
      },
      "source": [
        "#Downloading Competitions dataset:\n",
        "# Copy API Command \n",
        "\n",
        "! kaggle datasets download -d noulam/tomato"
      ],
      "execution_count": 8,
      "outputs": [
        {
          "output_type": "stream",
          "name": "stdout",
          "text": [
            "Downloading tomato.zip to /content\n",
            "100% 742M/743M [00:15<00:00, 37.3MB/s]\n",
            "100% 743M/743M [00:15<00:00, 50.5MB/s]\n"
          ]
        }
      ]
    },
    {
      "cell_type": "code",
      "metadata": {
        "colab": {
          "base_uri": "https://localhost:8080/"
        },
        "id": "v73KS5b7eWJk",
        "outputId": "7b0fb1fb-cef1-4ca2-e679-5d109f858237"
      },
      "source": [
        "#unzipping the zip files and deleting the zip files\n",
        "!unzip \\*.zip  && rm *.zip"
      ],
      "execution_count": 9,
      "outputs": [
        {
          "output_type": "stream",
          "name": "stdout",
          "text": [
            "Archive:  tomato.zip\n",
            "replace New Plant Diseases Dataset(Augmented)/train/Tomato___Bacterial_spot/00416648-be6e-4bd4-bc8d-82f43f8a7240___GCREC_Bact.Sp 3110.JPG? [y]es, [n]o, [A]ll, [N]one, [r]ename: N\n"
          ]
        }
      ]
    },
    {
      "cell_type": "code",
      "metadata": {
        "id": "ozVAf-XTgBGJ"
      },
      "source": [
        "Train_path= '/content/new plant diseases dataset(augmented)/New Plant Diseases Dataset(Augmented)/train/'\n",
        "Test_path= '/content/new plant diseases dataset(augmented)/New Plant Diseases Dataset(Augmented)/valid/'"
      ],
      "execution_count": 10,
      "outputs": []
    },
    {
      "cell_type": "code",
      "metadata": {
        "id": "GTLfT0HekPNA"
      },
      "source": [
        "# re-size all the images to 224*224 because VGG 16 has 224*224 input layer architecture\n",
        "IMAGE_SIZE = [224, 224]"
      ],
      "execution_count": 11,
      "outputs": []
    },
    {
      "cell_type": "code",
      "metadata": {
        "id": "tcA5jKfagIRM"
      },
      "source": [
        "# add preprocessing layer to the front of VGG\n",
        "vgg = VGG16(input_shape=IMAGE_SIZE + [3], weights='imagenet', include_top=False)\n",
        "#[3] in IMAGE_SIZE + [3] stands for image channels\n",
        "#include_top= False means dropping the output layer of VGG 16.\n",
        "#because VGG 16 has 1000 categories in output layer and we only classify data according to the requirement."
      ],
      "execution_count": 12,
      "outputs": []
    },
    {
      "cell_type": "code",
      "metadata": {
        "id": "a0WuSFAxmy1M"
      },
      "source": [
        "# don't train existing weights of VGG 16 because it is already trained weights.\n",
        "for layer in vgg.layers:\n",
        "  layer.trainable = False"
      ],
      "execution_count": 13,
      "outputs": []
    },
    {
      "cell_type": "code",
      "metadata": {
        "id": "Rsc0I875nRYU"
      },
      "source": [
        "#getting the number of classes available in Training Data\n",
        "folders= glob('/content/new plant diseases dataset(augmented)/New Plant Diseases Dataset(Augmented)/train/*')"
      ],
      "execution_count": 14,
      "outputs": []
    },
    {
      "cell_type": "code",
      "metadata": {
        "colab": {
          "base_uri": "https://localhost:8080/"
        },
        "id": "SyPsnILXnwit",
        "outputId": "624de7cd-deff-43d8-be6a-6b300a85ab36"
      },
      "source": [
        "folders"
      ],
      "execution_count": 15,
      "outputs": [
        {
          "output_type": "execute_result",
          "data": {
            "text/plain": [
              "['/content/new plant diseases dataset(augmented)/New Plant Diseases Dataset(Augmented)/train/Tomato___Late_blight',\n",
              " '/content/new plant diseases dataset(augmented)/New Plant Diseases Dataset(Augmented)/train/Tomato___Target_Spot',\n",
              " '/content/new plant diseases dataset(augmented)/New Plant Diseases Dataset(Augmented)/train/Tomato___Tomato_mosaic_virus',\n",
              " '/content/new plant diseases dataset(augmented)/New Plant Diseases Dataset(Augmented)/train/Tomato___Spider_mites Two-spotted_spider_mite',\n",
              " '/content/new plant diseases dataset(augmented)/New Plant Diseases Dataset(Augmented)/train/Tomato___Leaf_Mold',\n",
              " '/content/new plant diseases dataset(augmented)/New Plant Diseases Dataset(Augmented)/train/Tomato___Early_blight',\n",
              " '/content/new plant diseases dataset(augmented)/New Plant Diseases Dataset(Augmented)/train/Tomato___healthy',\n",
              " '/content/new plant diseases dataset(augmented)/New Plant Diseases Dataset(Augmented)/train/Tomato___Septoria_leaf_spot',\n",
              " '/content/new plant diseases dataset(augmented)/New Plant Diseases Dataset(Augmented)/train/Tomato___Bacterial_spot',\n",
              " '/content/new plant diseases dataset(augmented)/New Plant Diseases Dataset(Augmented)/train/Tomato___Tomato_Yellow_Leaf_Curl_Virus']"
            ]
          },
          "metadata": {},
          "execution_count": 15
        }
      ]
    },
    {
      "cell_type": "code",
      "metadata": {
        "id": "BhiqDGqvny8b"
      },
      "source": [
        "#Flattening the last layer of VGG 16\n",
        "x = Flatten()(vgg.output)"
      ],
      "execution_count": 16,
      "outputs": []
    },
    {
      "cell_type": "code",
      "metadata": {
        "id": "ckPNRR1oodrd"
      },
      "source": [
        "#Creating the last output layer (which is dense) = len(folders) = 10 here.\n",
        "predictions= Dense(len(folders), activation='softmax')(x)"
      ],
      "execution_count": 17,
      "outputs": []
    },
    {
      "cell_type": "code",
      "metadata": {
        "id": "WE-OzKYwpgtV"
      },
      "source": [
        "#creating a model\n",
        "model= Model(inputs=vgg.input, outputs=predictions)"
      ],
      "execution_count": 18,
      "outputs": []
    },
    {
      "cell_type": "code",
      "metadata": {
        "colab": {
          "base_uri": "https://localhost:8080/"
        },
        "id": "-updDa92p1n2",
        "outputId": "aec17785-6568-432c-cae0-afbf9d7b903c"
      },
      "source": [
        "model.summary()"
      ],
      "execution_count": 19,
      "outputs": [
        {
          "output_type": "stream",
          "name": "stdout",
          "text": [
            "Model: \"model\"\n",
            "_________________________________________________________________\n",
            " Layer (type)                Output Shape              Param #   \n",
            "=================================================================\n",
            " input_1 (InputLayer)        [(None, 224, 224, 3)]     0         \n",
            "                                                                 \n",
            " block1_conv1 (Conv2D)       (None, 224, 224, 64)      1792      \n",
            "                                                                 \n",
            " block1_conv2 (Conv2D)       (None, 224, 224, 64)      36928     \n",
            "                                                                 \n",
            " block1_pool (MaxPooling2D)  (None, 112, 112, 64)      0         \n",
            "                                                                 \n",
            " block2_conv1 (Conv2D)       (None, 112, 112, 128)     73856     \n",
            "                                                                 \n",
            " block2_conv2 (Conv2D)       (None, 112, 112, 128)     147584    \n",
            "                                                                 \n",
            " block2_pool (MaxPooling2D)  (None, 56, 56, 128)       0         \n",
            "                                                                 \n",
            " block3_conv1 (Conv2D)       (None, 56, 56, 256)       295168    \n",
            "                                                                 \n",
            " block3_conv2 (Conv2D)       (None, 56, 56, 256)       590080    \n",
            "                                                                 \n",
            " block3_conv3 (Conv2D)       (None, 56, 56, 256)       590080    \n",
            "                                                                 \n",
            " block3_pool (MaxPooling2D)  (None, 28, 28, 256)       0         \n",
            "                                                                 \n",
            " block4_conv1 (Conv2D)       (None, 28, 28, 512)       1180160   \n",
            "                                                                 \n",
            " block4_conv2 (Conv2D)       (None, 28, 28, 512)       2359808   \n",
            "                                                                 \n",
            " block4_conv3 (Conv2D)       (None, 28, 28, 512)       2359808   \n",
            "                                                                 \n",
            " block4_pool (MaxPooling2D)  (None, 14, 14, 512)       0         \n",
            "                                                                 \n",
            " block5_conv1 (Conv2D)       (None, 14, 14, 512)       2359808   \n",
            "                                                                 \n",
            " block5_conv2 (Conv2D)       (None, 14, 14, 512)       2359808   \n",
            "                                                                 \n",
            " block5_conv3 (Conv2D)       (None, 14, 14, 512)       2359808   \n",
            "                                                                 \n",
            " block5_pool (MaxPooling2D)  (None, 7, 7, 512)         0         \n",
            "                                                                 \n",
            " flatten (Flatten)           (None, 25088)             0         \n",
            "                                                                 \n",
            " dense (Dense)               (None, 10)                250890    \n",
            "                                                                 \n",
            "=================================================================\n",
            "Total params: 14,965,578\n",
            "Trainable params: 250,890\n",
            "Non-trainable params: 14,714,688\n",
            "_________________________________________________________________\n"
          ]
        }
      ]
    },
    {
      "cell_type": "code",
      "metadata": {
        "id": "f96LtxOGp7Il"
      },
      "source": [
        "# tell the model what cost and optimization method to use\n",
        "model.compile(\n",
        "  loss='categorical_crossentropy',\n",
        "  optimizer='adam',\n",
        "  metrics=['accuracy']\n",
        ")"
      ],
      "execution_count": 20,
      "outputs": []
    },
    {
      "cell_type": "code",
      "metadata": {
        "id": "yUlP8YmvqIuN"
      },
      "source": [
        "from keras.preprocessing.image import ImageDataGenerator"
      ],
      "execution_count": 21,
      "outputs": []
    },
    {
      "cell_type": "code",
      "metadata": {
        "id": "gkSjym8zrBPu"
      },
      "source": [
        "train_datagen= ImageDataGenerator(\n",
        "    rescale=1./255,\n",
        "    shear_range=0.2,\n",
        "    zoom_range=0.2,\n",
        "    horizontal_flip=True\n",
        ")"
      ],
      "execution_count": 22,
      "outputs": []
    },
    {
      "cell_type": "code",
      "metadata": {
        "id": "MTkFHfqErYP-"
      },
      "source": [
        "test_datagen= ImageDataGenerator(rescale=1./255)"
      ],
      "execution_count": 23,
      "outputs": []
    },
    {
      "cell_type": "code",
      "metadata": {
        "colab": {
          "base_uri": "https://localhost:8080/"
        },
        "id": "Ka9g4TKJrdSV",
        "outputId": "68cd3fb0-cf36-45e8-b090-fbfdf7e2ac06"
      },
      "source": [
        "training_set= train_datagen.flow_from_directory(\n",
        "    directory='/content/new plant diseases dataset(augmented)/New Plant Diseases Dataset(Augmented)/train/',\n",
        "    target_size=(224,224),\n",
        "    batch_size=16,\n",
        "    class_mode= 'categorical'\n",
        ")"
      ],
      "execution_count": 24,
      "outputs": [
        {
          "output_type": "stream",
          "name": "stdout",
          "text": [
            "Found 18345 images belonging to 10 classes.\n"
          ]
        }
      ]
    },
    {
      "cell_type": "markdown",
      "metadata": {
        "id": "lNV-ma2Utk9Q"
      },
      "source": [
        "#flow_from_directory parameters \n",
        "directory: The path to the folder that contains all the images.  \n",
        "x_col: The column name in the DataFrame that has the image names.  \n",
        "y_col: The column name in the DataFrame that has the target values.  \n",
        "class_mode: Set to binary is for 1-D binary labels whereas categorical is for 2-D one-hot encoded labels.  \n",
        "target_size: Size of input images.  \n",
        "batch_size: Size of the batches of data.  \n",
        "seed: Set to reproduce the result."
      ]
    },
    {
      "cell_type": "code",
      "metadata": {
        "colab": {
          "base_uri": "https://localhost:8080/"
        },
        "id": "GquWWNGutiF7",
        "outputId": "178ac4d1-8c38-406f-d8e0-0e028bb50a80"
      },
      "source": [
        "testing_set= test_datagen.flow_from_directory(\n",
        "    directory='/content/new plant diseases dataset(augmented)/New Plant Diseases Dataset(Augmented)/valid/',\n",
        "    target_size=(224,224),\n",
        "    batch_size=16,\n",
        "    class_mode= 'categorical'\n",
        ")"
      ],
      "execution_count": 25,
      "outputs": [
        {
          "output_type": "stream",
          "name": "stdout",
          "text": [
            "Found 4585 images belonging to 10 classes.\n"
          ]
        }
      ]
    },
    {
      "cell_type": "code",
      "metadata": {
        "id": "JuCN0TJUvGQN"
      },
      "source": [
        "from tensorflow.keras.callbacks import EarlyStopping"
      ],
      "execution_count": 26,
      "outputs": []
    },
    {
      "cell_type": "code",
      "metadata": {
        "id": "LcgLwztAvTSy"
      },
      "source": [
        "earlystop= EarlyStopping(monitor='val_loss', patience=5)"
      ],
      "execution_count": 27,
      "outputs": []
    },
    {
      "cell_type": "code",
      "metadata": {
        "colab": {
          "base_uri": "https://localhost:8080/"
        },
        "id": "IZSyC4l6uGNg",
        "outputId": "541f5b63-f499-4de0-ac65-8563e9a1fbf8"
      },
      "source": [
        "#fit the model\n",
        "results= model.fit(\n",
        "    x=training_set, \n",
        "    validation_data=testing_set, \n",
        "    batch_size=16,\n",
        "    epochs=10,\n",
        "    verbose=True,\n",
        "    callbacks=earlystop,\n",
        "    shuffle=True\n",
        "    )"
      ],
      "execution_count": 29,
      "outputs": [
        {
          "output_type": "stream",
          "name": "stdout",
          "text": [
            "Epoch 1/10\n",
            "1147/1147 [==============================] - 344s 270ms/step - loss: 0.8029 - accuracy: 0.7471 - val_loss: 0.9486 - val_accuracy: 0.7370\n",
            "Epoch 2/10\n",
            "1147/1147 [==============================] - 306s 267ms/step - loss: 0.5169 - accuracy: 0.8461 - val_loss: 0.3538 - val_accuracy: 0.8883\n",
            "Epoch 3/10\n",
            "1147/1147 [==============================] - 305s 266ms/step - loss: 0.4538 - accuracy: 0.8678 - val_loss: 0.6134 - val_accuracy: 0.8406\n",
            "Epoch 4/10\n",
            "1147/1147 [==============================] - 307s 268ms/step - loss: 0.3867 - accuracy: 0.8878 - val_loss: 0.3621 - val_accuracy: 0.9016\n",
            "Epoch 5/10\n",
            "1147/1147 [==============================] - 312s 272ms/step - loss: 0.3714 - accuracy: 0.8969 - val_loss: 0.4759 - val_accuracy: 0.8827\n",
            "Epoch 6/10\n",
            "1147/1147 [==============================] - 308s 269ms/step - loss: 0.3598 - accuracy: 0.9007 - val_loss: 0.5405 - val_accuracy: 0.8794\n",
            "Epoch 7/10\n",
            "1147/1147 [==============================] - 309s 269ms/step - loss: 0.2955 - accuracy: 0.9185 - val_loss: 0.3376 - val_accuracy: 0.9106\n",
            "Epoch 8/10\n",
            "1147/1147 [==============================] - 308s 269ms/step - loss: 0.3121 - accuracy: 0.9186 - val_loss: 0.3659 - val_accuracy: 0.9106\n",
            "Epoch 9/10\n",
            "1147/1147 [==============================] - 309s 269ms/step - loss: 0.2809 - accuracy: 0.9257 - val_loss: 0.4176 - val_accuracy: 0.9051\n",
            "Epoch 10/10\n",
            "1147/1147 [==============================] - 310s 270ms/step - loss: 0.2703 - accuracy: 0.9296 - val_loss: 0.7622 - val_accuracy: 0.8582\n"
          ]
        }
      ]
    },
    {
      "cell_type": "code",
      "metadata": {
        "colab": {
          "base_uri": "https://localhost:8080/",
          "height": 265
        },
        "id": "_0-SDOaiv9jr",
        "outputId": "97fb040c-0ff7-45f2-b262-cee0473247d0"
      },
      "source": [
        "# loss\n",
        "plt.plot(results.history['loss'], label='train loss')\n",
        "plt.plot(results.history['val_loss'], label='val loss')\n",
        "plt.legend()\n",
        "plt.show()"
      ],
      "execution_count": 31,
      "outputs": [
        {
          "output_type": "display_data",
          "data": {
            "image/png": "[encoded data removed]",
            "text/plain": [
              "<Figure size 432x288 with 1 Axes>"
            ]
          },
          "metadata": {
            "needs_background": "light"
          }
        }
      ]
    },
    {
      "cell_type": "code",
      "metadata": {
        "colab": {
          "base_uri": "https://localhost:8080/",
          "height": 265
        },
        "id": "oDs7PbnN80VK",
        "outputId": "ea10f9fb-69aa-47bd-9291-060c406cae62"
      },
      "source": [
        "# accuracies\n",
        "plt.plot(results.history['accuracy'], label='train acc')\n",
        "plt.plot(results.history['val_accuracy'], label='val acc')\n",
        "plt.legend()\n",
        "plt.show()"
      ],
      "execution_count": 33,
      "outputs": [
        {
          "output_type": "display_data",
          "data": {
            "image/png": "[encoded data removed]",
            "text/plain": [
              "<Figure size 432x288 with 1 Axes>"
            ]
          },
          "metadata": {
            "needs_background": "light"
          }
        }
      ]
    }
  ]
}