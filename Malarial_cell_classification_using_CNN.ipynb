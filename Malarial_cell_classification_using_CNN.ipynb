{
  "nbformat": 4,
  "nbformat_minor": 0,
  "metadata": {
    "colab": {
      "name": "Malarial cell classification using Convolutional NN.ipynb",
      "provenance": [],
      "collapsed_sections": [],
      "mount_file_id": "1VXrV__NBmB8A7Lfmc9Rh9E0ijpuJRloP",
      "authorship_tag": "ABX9TyPMqxCTP9DZZ8wJ6MwjiZwW",
      "include_colab_link": true
    },
    "kernelspec": {
      "name": "python3",
      "display_name": "Python 3"
    },
    "language_info": {
      "name": "python"
    },
    "accelerator": "GPU"
  },
  "cells": [
    {
      "cell_type": "markdown",
      "metadata": {
        "id": "view-in-github",
        "colab_type": "text"
      },
      "source": [
        "<a href=\"https://colab.research.google.com/github/feniltailor22/Deep_Learning/blob/main/Malarial_cell_classification_using_CNN.ipynb\" target=\"_parent\"><img src=\"https://colab.research.google.com/assets/colab-badge.svg\" alt=\"Open In Colab\"/></a>"
      ]
    },
    {
      "cell_type": "code",
      "metadata": {
        "id": "TPvY5-2_NNUo"
      },
      "source": [
        "import numpy as np\n",
        "import cv2\n",
        "import os\n",
        "import pandas as pd\n",
        "from PIL import Image #for resize"
      ],
      "execution_count": 1,
      "outputs": []
    },
    {
      "cell_type": "code",
      "metadata": {
        "id": "Gk1GkTbINvV4"
      },
      "source": [
        "image_directory= '/content/drive/MyDrive/cell_images/'"
      ],
      "execution_count": 2,
      "outputs": []
    },
    {
      "cell_type": "code",
      "metadata": {
        "id": "me0e90axRoMY"
      },
      "source": [
        "SIZE= 64"
      ],
      "execution_count": 3,
      "outputs": []
    },
    {
      "cell_type": "code",
      "metadata": {
        "id": "vp6PxvycRvFe"
      },
      "source": [
        "dataset= []\n",
        "label= []"
      ],
      "execution_count": 4,
      "outputs": []
    },
    {
      "cell_type": "code",
      "metadata": {
        "id": "XYpGRBbnR95U"
      },
      "source": [
        "parasitized_img= os.listdir(image_directory+ 'Parasitized/Train/')"
      ],
      "execution_count": 5,
      "outputs": []
    },
    {
      "cell_type": "code",
      "metadata": {
        "id": "UWMIJ6fyXuXt"
      },
      "source": [
        "for i, image_name in enumerate(parasitized_img):\n",
        "  if (image_name.split('.')[1]== 'png'):\n",
        "    image= cv2.imread(image_directory+ 'Parasitized/Train/' + image_name)\n",
        "    image= Image.fromarray(image, 'RGB')\n",
        "    image= image.resize((SIZE,SIZE))\n",
        "    dataset.append(np.array(image))\n",
        "    label.append(0)\n",
        "    \n",
        "    #Call PIL.image.fromarray(obj, mode) with obj as a 3-D array and mode as \"RGB\" to convert obj into an image."
      ],
      "execution_count": 6,
      "outputs": []
    },
    {
      "cell_type": "code",
      "metadata": {
        "id": "6uY6awVFeDjU"
      },
      "source": [
        "uninfected_img= os.listdir(image_directory+ 'Uninfected/Train/')"
      ],
      "execution_count": 7,
      "outputs": []
    },
    {
      "cell_type": "code",
      "metadata": {
        "id": "A0TaBa2YeUA-"
      },
      "source": [
        "for i, image_name in enumerate(uninfected_img):\n",
        "  if (image_name.split('.')[1]== 'png'):\n",
        "    image= cv2.imread(image_directory+ 'Uninfected/Train/'+ image_name)\n",
        "    image= Image.fromarray(image, 'RGB')\n",
        "    image= image.resize((SIZE, SIZE))\n",
        "    dataset.append(np.array(image))\n",
        "    label.append(1)"
      ],
      "execution_count": 8,
      "outputs": []
    },
    {
      "cell_type": "code",
      "metadata": {
        "id": "pFZjHVKyfL1F"
      },
      "source": [
        "#Building the model"
      ],
      "execution_count": 9,
      "outputs": []
    },
    {
      "cell_type": "code",
      "metadata": {
        "id": "2RlDsDU-f9lM"
      },
      "source": [
        "from tensorflow.keras.models import Sequential\n",
        "from tensorflow.keras.layers import Conv2D, MaxPool2D, BatchNormalization, Dropout, Flatten, Dense"
      ],
      "execution_count": 10,
      "outputs": []
    },
    {
      "cell_type": "code",
      "metadata": {
        "id": "4R9B7DULgqpW"
      },
      "source": [
        "model= Sequential()\n",
        "\n",
        "model.add(Conv2D(filters=32, kernel_size=(3,3), input_shape= (SIZE, SIZE, 3), activation='relu', padding='same')) #padding='same' means adding outer zeroes.\n",
        "model.add(MaxPool2D(pool_size=(2,2)))\n",
        "model.add(BatchNormalization(axis= -1))\n",
        "model.add(Dropout(rate= 0.2))\n",
        "\n",
        "model.add(Conv2D(filters=32, kernel_size=(3,3), activation='relu', padding='same'))\n",
        "model.add(MaxPool2D(pool_size=(2,2)))\n",
        "model.add(BatchNormalization(axis= -1))\n",
        "model.add(Dropout(rate= 0.2))\n",
        "\n",
        "model.add(Flatten())\n",
        "\n",
        "model.add(Dense(units=512, activation='relu'))\n",
        "model.add(BatchNormalization(axis= -1))\n",
        "model.add(Dropout(rate= 0.2))\n",
        "\n",
        "model.add(Dense(units=256, activation='relu'))\n",
        "model.add(BatchNormalization(axis= -1))\n",
        "model.add(Dropout(rate= 0.2))\n",
        "\n",
        "model.add(Dense(units=2, activation='sigmoid'))\n",
        "\n",
        "model.compile(loss='binary_crossentropy', optimizer='adam', metrics=['accuracy'])"
      ],
      "execution_count": 11,
      "outputs": []
    },
    {
      "cell_type": "code",
      "metadata": {
        "colab": {
          "base_uri": "https://localhost:8080/"
        },
        "id": "2HIgd45ciV4u",
        "outputId": "b4af2eaa-d8d2-4c49-a3cd-f228d12e6ace"
      },
      "source": [
        "model.summary()"
      ],
      "execution_count": 12,
      "outputs": [
        {
          "output_type": "stream",
          "name": "stdout",
          "text": [
            "Model: \"sequential\"\n",
            "_________________________________________________________________\n",
            " Layer (type)                Output Shape              Param #   \n",
            "=================================================================\n",
            " conv2d (Conv2D)             (None, 64, 64, 32)        896       \n",
            "                                                                 \n",
            " max_pooling2d (MaxPooling2D  (None, 32, 32, 32)       0         \n",
            " )                                                               \n",
            "                                                                 \n",
            " batch_normalization (BatchN  (None, 32, 32, 32)       128       \n",
            " ormalization)                                                   \n",
            "                                                                 \n",
            " dropout (Dropout)           (None, 32, 32, 32)        0         \n",
            "                                                                 \n",
            " conv2d_1 (Conv2D)           (None, 32, 32, 32)        9248      \n",
            "                                                                 \n",
            " max_pooling2d_1 (MaxPooling  (None, 16, 16, 32)       0         \n",
            " 2D)                                                             \n",
            "                                                                 \n",
            " batch_normalization_1 (Batc  (None, 16, 16, 32)       128       \n",
            " hNormalization)                                                 \n",
            "                                                                 \n",
            " dropout_1 (Dropout)         (None, 16, 16, 32)        0         \n",
            "                                                                 \n",
            " flatten (Flatten)           (None, 8192)              0         \n",
            "                                                                 \n",
            " dense (Dense)               (None, 512)               4194816   \n",
            "                                                                 \n",
            " batch_normalization_2 (Batc  (None, 512)              2048      \n",
            " hNormalization)                                                 \n",
            "                                                                 \n",
            " dropout_2 (Dropout)         (None, 512)               0         \n",
            "                                                                 \n",
            " dense_1 (Dense)             (None, 256)               131328    \n",
            "                                                                 \n",
            " batch_normalization_3 (Batc  (None, 256)              1024      \n",
            " hNormalization)                                                 \n",
            "                                                                 \n",
            " dropout_3 (Dropout)         (None, 256)               0         \n",
            "                                                                 \n",
            " dense_2 (Dense)             (None, 2)                 514       \n",
            "                                                                 \n",
            "=================================================================\n",
            "Total params: 4,340,130\n",
            "Trainable params: 4,338,466\n",
            "Non-trainable params: 1,664\n",
            "_________________________________________________________________\n"
          ]
        }
      ]
    },
    {
      "cell_type": "code",
      "metadata": {
        "id": "P6Opt33fi_ys"
      },
      "source": [
        "from sklearn.model_selection import train_test_split\n",
        "\n",
        "#Applying one-hot encoding to y_train data as Machine cannot understand categories.\n",
        "from tensorflow.keras.utils import to_categorical"
      ],
      "execution_count": 13,
      "outputs": []
    },
    {
      "cell_type": "code",
      "metadata": {
        "id": "VGDDZTB-jH0G"
      },
      "source": [
        "x_train, x_test, y_train, y_test= train_test_split(dataset, to_categorical(np.array(label)), test_size=0.20, random_state=0)"
      ],
      "execution_count": 14,
      "outputs": []
    },
    {
      "cell_type": "code",
      "metadata": {
        "id": "pMTgWxJNiXBX"
      },
      "source": [
        "from tensorflow.keras.callbacks import EarlyStopping"
      ],
      "execution_count": 15,
      "outputs": []
    },
    {
      "cell_type": "code",
      "metadata": {
        "id": "aNxA68Q5icX4"
      },
      "source": [
        "early_stop= EarlyStopping(monitor='val_loss',patience=5)"
      ],
      "execution_count": 16,
      "outputs": []
    },
    {
      "cell_type": "code",
      "metadata": {
        "colab": {
          "base_uri": "https://localhost:8080/"
        },
        "id": "gwb-V_V3ifvE",
        "outputId": "eef8136d-7605-4c27-a9b6-f86bcd74a00e"
      },
      "source": [
        "model.fit(x=np.array(x_train),\n",
        "          y=y_train,\n",
        "          epochs=25,\n",
        "          batch_size=64,\n",
        "          validation_split= 0.1,\n",
        "          verbose=True,\n",
        "          shuffle= False,\n",
        "          callbacks=[early_stop]\n",
        "          )"
      ],
      "execution_count": 17,
      "outputs": [
        {
          "output_type": "stream",
          "name": "stdout",
          "text": [
            "Epoch 1/25\n",
            "20/20 [==============================] - 32s 47ms/step - loss: 0.3596 - accuracy: 0.8663 - val_loss: 5.2432 - val_accuracy: 0.5612\n",
            "Epoch 2/25\n",
            "20/20 [==============================] - 0s 22ms/step - loss: 0.1799 - accuracy: 0.9376 - val_loss: 0.7755 - val_accuracy: 0.9065\n",
            "Epoch 3/25\n",
            "20/20 [==============================] - 0s 21ms/step - loss: 0.1328 - accuracy: 0.9520 - val_loss: 0.7605 - val_accuracy: 0.8561\n",
            "Epoch 4/25\n",
            "20/20 [==============================] - 0s 21ms/step - loss: 0.1029 - accuracy: 0.9640 - val_loss: 1.2530 - val_accuracy: 0.6547\n",
            "Epoch 5/25\n",
            "20/20 [==============================] - 0s 21ms/step - loss: 0.0971 - accuracy: 0.9688 - val_loss: 0.6697 - val_accuracy: 0.8849\n",
            "Epoch 6/25\n",
            "20/20 [==============================] - 0s 22ms/step - loss: 0.0645 - accuracy: 0.9776 - val_loss: 0.4144 - val_accuracy: 0.9065\n",
            "Epoch 7/25\n",
            "20/20 [==============================] - 0s 21ms/step - loss: 0.0521 - accuracy: 0.9856 - val_loss: 0.4691 - val_accuracy: 0.8777\n",
            "Epoch 8/25\n",
            "20/20 [==============================] - 0s 21ms/step - loss: 0.0411 - accuracy: 0.9872 - val_loss: 0.7964 - val_accuracy: 0.8489\n",
            "Epoch 9/25\n",
            "20/20 [==============================] - 0s 22ms/step - loss: 0.0211 - accuracy: 0.9976 - val_loss: 0.6076 - val_accuracy: 0.8921\n",
            "Epoch 10/25\n",
            "20/20 [==============================] - 0s 21ms/step - loss: 0.0255 - accuracy: 0.9912 - val_loss: 2.6332 - val_accuracy: 0.5755\n",
            "Epoch 11/25\n",
            "20/20 [==============================] - 0s 22ms/step - loss: 0.0199 - accuracy: 0.9968 - val_loss: 0.7002 - val_accuracy: 0.8489\n"
          ]
        },
        {
          "output_type": "execute_result",
          "data": {
            "text/plain": [
              "<keras.callbacks.History at 0x7f5fbc490850>"
            ]
          },
          "metadata": {},
          "execution_count": 17
        }
      ]
    },
    {
      "cell_type": "code",
      "metadata": {
        "id": "eMcJCJXUkaoM"
      },
      "source": [
        "losses= pd.DataFrame(data=model.history.history)"
      ],
      "execution_count": 18,
      "outputs": []
    },
    {
      "cell_type": "code",
      "metadata": {
        "colab": {
          "base_uri": "https://localhost:8080/",
          "height": 204
        },
        "id": "vIJUue33lJBe",
        "outputId": "979cfec0-e992-46fd-9397-5e0884e3efdc"
      },
      "source": [
        "losses.head()"
      ],
      "execution_count": 19,
      "outputs": [
        {
          "output_type": "execute_result",
          "data": {
            "text/html": [
              "<div>\n",
              "<style scoped>\n",
              "    .dataframe tbody tr th:only-of-type {\n",
              "        vertical-align: middle;\n",
              "    }\n",
              "\n",
              "    .dataframe tbody tr th {\n",
              "        vertical-align: top;\n",
              "    }\n",
              "\n",
              "    .dataframe thead th {\n",
              "        text-align: right;\n",
              "    }\n",
              "</style>\n",
              "<table border=\"1\" class=\"dataframe\">\n",
              "  <thead>\n",
              "    <tr style=\"text-align: right;\">\n",
              "      <th></th>\n",
              "      <th>loss</th>\n",
              "      <th>accuracy</th>\n",
              "      <th>val_loss</th>\n",
              "      <th>val_accuracy</th>\n",
              "    </tr>\n",
              "  </thead>\n",
              "  <tbody>\n",
              "    <tr>\n",
              "      <th>0</th>\n",
              "      <td>0.359597</td>\n",
              "      <td>0.866293</td>\n",
              "      <td>5.243157</td>\n",
              "      <td>0.561151</td>\n",
              "    </tr>\n",
              "    <tr>\n",
              "      <th>1</th>\n",
              "      <td>0.179882</td>\n",
              "      <td>0.937550</td>\n",
              "      <td>0.775544</td>\n",
              "      <td>0.906475</td>\n",
              "    </tr>\n",
              "    <tr>\n",
              "      <th>2</th>\n",
              "      <td>0.132771</td>\n",
              "      <td>0.951962</td>\n",
              "      <td>0.760496</td>\n",
              "      <td>0.856115</td>\n",
              "    </tr>\n",
              "    <tr>\n",
              "      <th>3</th>\n",
              "      <td>0.102910</td>\n",
              "      <td>0.963971</td>\n",
              "      <td>1.252985</td>\n",
              "      <td>0.654676</td>\n",
              "    </tr>\n",
              "    <tr>\n",
              "      <th>4</th>\n",
              "      <td>0.097058</td>\n",
              "      <td>0.968775</td>\n",
              "      <td>0.669738</td>\n",
              "      <td>0.884892</td>\n",
              "    </tr>\n",
              "  </tbody>\n",
              "</table>\n",
              "</div>"
            ],
            "text/plain": [
              "       loss  accuracy  val_loss  val_accuracy\n",
              "0  0.359597  0.866293  5.243157      0.561151\n",
              "1  0.179882  0.937550  0.775544      0.906475\n",
              "2  0.132771  0.951962  0.760496      0.856115\n",
              "3  0.102910  0.963971  1.252985      0.654676\n",
              "4  0.097058  0.968775  0.669738      0.884892"
            ]
          },
          "metadata": {},
          "execution_count": 19
        }
      ]
    },
    {
      "cell_type": "code",
      "metadata": {
        "colab": {
          "base_uri": "https://localhost:8080/",
          "height": 282
        },
        "id": "5eztxpaJlMIV",
        "outputId": "39ef6ae7-dbd1-4023-e50c-866e1a6916e2"
      },
      "source": [
        "losses[['accuracy','val_accuracy']].plot()"
      ],
      "execution_count": 20,
      "outputs": [
        {
          "output_type": "execute_result",
          "data": {
            "text/plain": [
              "<matplotlib.axes._subplots.AxesSubplot at 0x7f5fbabcaf90>"
            ]
          },
          "metadata": {},
          "execution_count": 20
        },
        {
          "output_type": "display_data",
          "data": {
            "image/png": "[encoded data removed]",
            "text/plain": [
              "<Figure size 432x288 with 1 Axes>"
            ]
          },
          "metadata": {
            "needs_background": "light"
          }
        }
      ]
    },
    {
      "cell_type": "code",
      "metadata": {
        "colab": {
          "base_uri": "https://localhost:8080/",
          "height": 282
        },
        "id": "hFbLRakXlRq_",
        "outputId": "fea75b20-311a-4514-f758-97428c59f5c7"
      },
      "source": [
        "losses[['loss','val_loss']].plot()"
      ],
      "execution_count": 21,
      "outputs": [
        {
          "output_type": "execute_result",
          "data": {
            "text/plain": [
              "<matplotlib.axes._subplots.AxesSubplot at 0x7f5fbac36850>"
            ]
          },
          "metadata": {},
          "execution_count": 21
        },
        {
          "output_type": "display_data",
          "data": {
            "image/png": "[encoded data removed]",
            "text/plain": [
              "<Figure size 432x288 with 1 Axes>"
            ]
          },
          "metadata": {
            "needs_background": "light"
          }
        }
      ]
    },
    {
      "cell_type": "code",
      "metadata": {
        "colab": {
          "base_uri": "https://localhost:8080/"
        },
        "id": "I9D4WTe-lwJK",
        "outputId": "2980b662-2060-4198-9f28-5998d1a31b82"
      },
      "source": [
        "model.evaluate(np.array(x_test), np.array(y_test))"
      ],
      "execution_count": 22,
      "outputs": [
        {
          "output_type": "stream",
          "name": "stdout",
          "text": [
            "11/11 [==============================] - 0s 11ms/step - loss: 0.7604 - accuracy: 0.8329\n"
          ]
        },
        {
          "output_type": "execute_result",
          "data": {
            "text/plain": [
              "[0.7603534460067749, 0.8328530192375183]"
            ]
          },
          "metadata": {},
          "execution_count": 22
        }
      ]
    }
  ]
}